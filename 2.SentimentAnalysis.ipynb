{
 "cells": [
  {
   "cell_type": "code",
   "execution_count": 1,
   "metadata": {},
   "outputs": [],
   "source": [
    "import os\n",
    "import json\n",
    "import gzip\n",
    "import io\n",
    "import glob\n",
    "import pickle\n",
    "import time\n",
    "from vaderSentiment.vaderSentiment import SentimentIntensityAnalyzer\n",
    "from IPython.display import clear_output"
   ]
  },
  {
   "cell_type": "code",
   "execution_count": 2,
   "metadata": {},
   "outputs": [],
   "source": [
    "def loadProgress():\n",
    "    if(os.path.exists('dates_dict.pkl')):\n",
    "        pkl_file = open('dates_dict.pkl', 'rb')\n",
    "        date_dict = pickle.load(pkl_file)\n",
    "        pkl_file.close()\n",
    "\n",
    "\n",
    "    else: raise Exception('dates_dict.pkl file not found')\n",
    "\n",
    "    if(os.path.exists('analysis_progress.pkl')):\n",
    "        pkl_file1 = open('analysis_progress.pkl', 'rb')\n",
    "        analysis_progress = pickle.load(pkl_file1)\n",
    "        pkl_file1.close()  \n",
    "\n",
    "    else:  analysis_progress = {}\n",
    "\n",
    "    for date in date_dict:\n",
    "        if date not in analysis_progress:\n",
    "            analysis_progress.update( {date : \"not_analyzed\"} )\n",
    "    return date_dict, analysis_progress\n",
    "\n",
    "\n",
    "def sentimentAnalysis(tweets, date):\n",
    "    i=1\n",
    "    tweets_len = len(tweets)\n",
    "    for tweet in tweets:\n",
    "        tweet_dict = tweets[tweet]\n",
    "        tweet_text = tweet_dict['tweet_text']\n",
    "        analyzer = SentimentIntensityAnalyzer()\n",
    "        vs = analyzer.polarity_scores(tweet_text)        \n",
    "        tweets[tweet]['sentiment'] = vs['compound'] \n",
    "\n",
    "        if(i%100==0):\n",
    "            print(\"Analysing \"+str(i)+ \"/\"+str(tweets_len)+\" tweets from \"+str(date), end=\"\\r\")\n",
    "        i +=1\n",
    "    print(\"Analysing \"+str(i)+ \"/\"+str(tweets_len)+\" tweets from \"+str(date))\n",
    "    return tweets\n"
   ]
  },
  {
   "cell_type": "code",
   "execution_count": null,
   "metadata": {},
   "outputs": [
    {
     "name": "stdout",
     "output_type": "stream",
     "text": [
      "Analysing 2037900/2037990 tweets from 2020-03-09\n",
      "\n",
      "Analyzed 2037990 tweets from 2020-03-09 in 16173.662991523743s\n",
      "Analysing 2664900/3390309 tweets from 2020-03-11\r"
     ]
    }
   ],
   "source": [
    "date_dict, analysis_progress = loadProgress()\n",
    "        \n",
    "tweets = {}\n",
    "        \n",
    "for date in date_dict:      \n",
    "    if(date_dict[date]==\"processed\" and analysis_progress[date] == \"not_analyzed\"):\n",
    "\n",
    "    #         loading the tweets\n",
    "        start_time = time.time()\n",
    "        tweet_pkl = open('Processed Tweets/tweets_' +date+'.pkl', 'rb')\n",
    "        tweets = pickle.load(tweet_pkl)\n",
    "        tweet_pkl.close()       \n",
    "\n",
    "    #         calling the sentiment analysis function\n",
    "        tweets = sentimentAnalysis(tweets, date)\n",
    "    #         saving the results\n",
    "        analysis_progress[date] = \"analyzed\"\n",
    "        output = open('analysis_progress.pkl', 'wb')\n",
    "        pickle.dump( analysis_progress, output)\n",
    "        output.close()\n",
    "        \n",
    "        output = open('Processed Tweets/tweets_' +date+'.pkl', 'wb')\n",
    "        print()\n",
    "        pickle.dump( tweets, output)\n",
    "        output.close()\n",
    "\n",
    "        print('Analyzed '+ str(len(tweets)) + ' tweets from ' + str(date) + ' in ' + str(time.time()-start_time)+ 's ')\n"
   ]
  },
  {
   "cell_type": "code",
   "execution_count": null,
   "metadata": {},
   "outputs": [],
   "source": []
  },
  {
   "cell_type": "code",
   "execution_count": null,
   "metadata": {},
   "outputs": [],
   "source": []
  },
  {
   "cell_type": "code",
   "execution_count": null,
   "metadata": {},
   "outputs": [],
   "source": []
  }
 ],
 "metadata": {
  "kernelspec": {
   "display_name": "Python 3",
   "language": "python",
   "name": "python3"
  },
  "language_info": {
   "codemirror_mode": {
    "name": "ipython",
    "version": 3
   },
   "file_extension": ".py",
   "mimetype": "text/x-python",
   "name": "python",
   "nbconvert_exporter": "python",
   "pygments_lexer": "ipython3",
   "version": "3.7.5"
  }
 },
 "nbformat": 4,
 "nbformat_minor": 4
}
