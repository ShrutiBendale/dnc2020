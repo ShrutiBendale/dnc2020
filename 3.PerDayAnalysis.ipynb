{
 "cells": [
  {
   "cell_type": "code",
   "execution_count": 5,
   "metadata": {},
   "outputs": [],
   "source": [
    "import json\n",
    "import gzip\n",
    "import os\n",
    "import glob\n",
    "import pickle\n",
    "import time\n",
    "from IPython.display import clear_output\n",
    "import pandas as pd"
   ]
  },
  {
   "cell_type": "code",
   "execution_count": 6,
   "metadata": {},
   "outputs": [],
   "source": [
    "candidates_keywords = {'Joe Biden': ['Joe Biden','@JoeBiden', 'Biden', '#Biden2020', '#JoeBiden', '#TeamJoe', '#TellTheTruthJoe', '#BidenIsCorrupt', '#BidenisCorrupt'],\n",
    "                        'Michael Bennet' : ['@MichaelBennet', 'Michael Bennet'],\n",
    "                        'Michael Bloomberg' : ['@Mike2020', 'Michael Bloomberg', '#bloomberg2020'],\n",
    "                        'Pete Buttigieg' : ['Pete Buttigieg','@PeteButtigieg', '#dropoutpete', '#pete2020', '#PeteForAmerica', '#PeteforPresident', '#TeamPete', '#winecave', '#winecavepete'],\n",
    "                        'John Delaney' : ['@JohnDelaney', 'John Delaney'],\n",
    "                        'Tulsi Gabbard' : ['Tulsi Gabbard', '@tulsigabbard', '#StandWithTulsi', '#tulsiwasright', '#tulsigabbard', '#Tulsi2020', '#Tulsi', '#tulsicoward'],\n",
    "                        'Amy Klobuchar' :['Amy Klobuchar', '@amyklobuchar', '#AmyforAmerica', '#klobucharmy', '#DropOutAmy'],\n",
    "                        'Deval Patrick' : ['Deval Patrick', '@DevalPatrick', '#Devalforall', '#DevalPatrick2020', '#devalpatrick'],\n",
    "                        'Bernie Sanders' : ['Bernie Sanders', '@BernieSanders', '#Bernie', '#berniesanders', '#bernie2020', '#Fightfor15', '#ILikeBernie', '#NobodyLikesHim', '#NotMeUs', '#TrustBernie', '#ITrustBernie', '#VoteforBernie', '#WomenForBernie', '#blackwomenforbernie', '#berniebeatstrump', '#marxistbernie', '#berniebots'],\n",
    "                        'Tom Steyer' : ['Tom Steyer', '@TomSteyer', '#momenTOM', '#TomforPresident'],\n",
    "                        'Elizabeth Warren' : ['Elizabeth Warren', '@ewarren', '#imWithHer', '#TeamWarren', '#Warren', '#Warren2020', '#WarrenHarris', '#WarrenIsaSnake', '#WarrenCastro2020'],\n",
    "                        'Andrew Yang' : ['Andrew Yang', '@AndrewYang', '#AmericaNeedsYang', '#AndrewYang', '#NHforYang', '#Yang2020', '#YangGang'],\n",
    "                      }\n",
    "                       \n",
    " "
   ]
  },
  {
   "cell_type": "code",
   "execution_count": 7,
   "metadata": {},
   "outputs": [],
   "source": [
    "def load_progress():\n",
    "    \n",
    "    #loading the dataframe tracking the progress of sentiment analysis \n",
    "    pkl_file1 = open('analysis_progress.pkl', 'rb')\n",
    "    analysis_progress = pickle.load(pkl_file1)\n",
    "    pkl_file1.close()  \n",
    "\n",
    "    #loading the daily sentiment dataframe\n",
    "    if(os.path.exists('daily_candidate_sentiments_df.pkl')):\n",
    "        pkl_file = open('daily_candidate_sentiments_df.pkl', 'rb')\n",
    "        daily_candidate_sentiments_df = pickle.load(pkl_file)\n",
    "        pkl_file.close()\n",
    "\n",
    "    else:\n",
    "        daily_candidate_sentiments_df = pd.DataFrame(columns = list(candidates_keywords.keys()))\n",
    "        daily_candidate_sentiments_df.insert(0, 'Date','')\n",
    "\n",
    "    #loading the daily tweets count dataframe   \n",
    "    if(os.path.exists('daily_candidate_tweets_df.pkl')):\n",
    "        pkl_file = open('daily_candidate_tweets_df.pkl', 'rb')\n",
    "        daily_candidate_tweets_df = pickle.load(pkl_file)\n",
    "        pkl_file.close()\n",
    "\n",
    "    else:\n",
    "        daily_candidate_tweets_df = pd.DataFrame(columns = list(candidates_keywords.keys()))\n",
    "        daily_candidate_tweets_df.insert(0, 'Date','')\n",
    "    return analysis_progress, daily_candidate_sentiments_df, daily_candidate_tweets_df\n",
    "\n"
   ]
  },
  {
   "cell_type": "code",
   "execution_count": 8,
   "metadata": {
    "scrolled": false
   },
   "outputs": [
    {
     "name": "stdout",
     "output_type": "stream",
     "text": [
      "Processed 2037990/2037990 tweets from 2020-03-09\n"
     ]
    }
   ],
   "source": [
    "analysis_progress, daily_candidate_sentiments_df, daily_candidate_tweets_df = load_progress()\n",
    "\n",
    "for date in analysis_progress:\n",
    "    \n",
    "    if(analysis_progress[date] == 'analyzed' and date not in daily_candidate_sentiments_df['Date'].values):\n",
    "        \n",
    "        #loading the tweets for that date\n",
    "        tweet_pkl = open('Processed Tweets/tweets_' +date+'.pkl', 'rb')\n",
    "        tweets = pickle.load(tweet_pkl)\n",
    "        tweet_pkl.close() \n",
    "        \n",
    "        #initializing the sentiment and # of tweets on a date to 0 for all candidates\n",
    "        listofzeros = [date] +[0] * (len(daily_candidate_sentiments_df.columns)-1)\n",
    "        row_df = pd.Series(listofzeros, index=daily_candidate_sentiments_df.columns)\n",
    "        daily_candidate_sentiments_df = daily_candidate_sentiments_df.append(row_df, ignore_index=True)\n",
    "        daily_candidate_tweets_df = daily_candidate_tweets_df.append(row_df, ignore_index=True)\n",
    "        \n",
    "        i=0\n",
    "        for tweet in tweets:\n",
    "            i+=1\n",
    "            tweets_len = str(len(tweets))\n",
    "            for candidate in candidates_keywords:\n",
    "                #checking if the tweet contains any keywords for that candidate\n",
    "                if any(word in tweets[tweet]['tweet_text'] for word in candidates_keywords[candidate]):\n",
    "                    \n",
    "                    #updating the tweet count for that candidate in the daily_candidate_tweets_df dataframe\n",
    "                    old_count = daily_candidate_tweets_df.loc[daily_candidate_tweets_df.Date == date, candidate].iloc[0]                   \n",
    "                    daily_candidate_tweets_df.loc[daily_candidate_tweets_df.Date == date, candidate] = old_count+1\n",
    "                    \n",
    "                    #updating the average sentiment for that candidate in the daily_candidate_sentiments_df dataframe\n",
    "                    if int(old_count)==0: daily_candidate_sentiments_df.loc[daily_candidate_sentiments_df.Date == date, candidate] = tweets[tweet]['sentiment']\n",
    "                    else:\n",
    "                        old_senti = daily_candidate_sentiments_df.loc[daily_candidate_sentiments_df.Date == date, candidate].iloc[0]\n",
    "                        daily_candidate_sentiments_df.loc[daily_candidate_sentiments_df.Date == date, candidate] = ((float(old_senti)  * float(old_count))+ float(tweets[tweet]['sentiment']))/(float(old_count)+1)\n",
    "            \n",
    "            if(i%100==0): print(\"Processed \"+str(i)+\"/\" +tweets_len+\" tweets from \" + date, end = \"\\r\")\n",
    "        \n",
    "        output = open('daily_candidate_tweets_df.pkl', 'wb')\n",
    "        pickle.dump(daily_candidate_tweets_df, output)\n",
    "        output.close()\n",
    "\n",
    "        output = open('daily_candidate_sentiments_df.pkl', 'wb')\n",
    "        pickle.dump(daily_candidate_sentiments_df, output)\n",
    "        output.close()\n",
    "        print(\"Processed \"+str(i)+\"/\" +tweets_len+\" tweets from \" + date)\n",
    "\n",
    "                    \n",
    "                    "
   ]
  },
  {
   "cell_type": "code",
   "execution_count": null,
   "metadata": {},
   "outputs": [],
   "source": []
  },
  {
   "cell_type": "code",
   "execution_count": null,
   "metadata": {},
   "outputs": [],
   "source": []
  },
  {
   "cell_type": "code",
   "execution_count": null,
   "metadata": {},
   "outputs": [],
   "source": []
  },
  {
   "cell_type": "code",
   "execution_count": null,
   "metadata": {},
   "outputs": [],
   "source": []
  }
 ],
 "metadata": {
  "kernelspec": {
   "display_name": "Python 3",
   "language": "python",
   "name": "python3"
  },
  "language_info": {
   "codemirror_mode": {
    "name": "ipython",
    "version": 3
   },
   "file_extension": ".py",
   "mimetype": "text/x-python",
   "name": "python",
   "nbconvert_exporter": "python",
   "pygments_lexer": "ipython3",
   "version": "3.7.5"
  }
 },
 "nbformat": 4,
 "nbformat_minor": 4
}
